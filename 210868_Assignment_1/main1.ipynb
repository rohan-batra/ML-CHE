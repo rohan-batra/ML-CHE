{
 "cells": [
  {
   "cell_type": "code",
   "execution_count": 123,
   "metadata": {},
   "outputs": [],
   "source": [
    "import numpy as np\n",
    "import pandas as pd\n",
    "import matplotlib.pyplot as plt\n",
    "import  math as m\n",
    "from linearRegression import *\n"
   ]
  },
  {
   "cell_type": "code",
   "execution_count": 124,
   "metadata": {},
   "outputs": [
    {
     "data": {
      "image/png": "[encoded data removed]",
      "text/plain": [
       "<Figure size 432x288 with 1 Axes>"
      ]
     },
     "metadata": {
      "needs_background": "light"
     },
     "output_type": "display_data"
    }
   ],
   "source": [
    "X_train = np.matrix([2.5, 4.7, 5.2, 7.3, 9.5, 11.5])\n",
    "X_train = np.transpose(X_train)\n",
    "Y_train = np.matrix([5.21, 7.70, 8.30, 11, 14.5, 15])\n",
    "Y_train = np.transpose(Y_train)\n",
    "theta1 = fitGD(X_train, Y_train, 0.01, 0.01, 1, 1000)\n",
    "theta2=fitNormal(X_train, Y_train)\n",
    "plt.title(\"Fitting graph\")\n",
    "plt.scatter(np.ravel(X_train),np.ravel(Y_train),color=\"red\")\n",
    "y = np.arange(start=2.5,stop=13.5,step=1)\n",
    "x = float(theta1)\n",
    "x = x*y \n",
    "y1 = np.arange(start=0.5,stop=11.5,step=1)\n",
    "x1 = float(theta2)\n",
    "x1 = x1*y1\n",
    "print()\n",
    "plt.plot(y,x,color=\"red\")\n",
    "# plt.show()\n",
    "plt.plot(y1,x1,color=\"blue\")\n",
    "plt.show()\n"
   ]
  },
  {
   "cell_type": "markdown",
   "metadata": {},
   "source": [
    "## Error handling"
   ]
  },
  {
   "cell_type": "code",
   "execution_count": 153,
   "metadata": {},
   "outputs": [],
   "source": [
    "\n",
    "X_test = np.array([3.5, 5, 6, 8, 10 ])\n",
    "Y_test = np.array([6.25, 8.2, 9.5, 12.1, 14.7])\n",
    "X_train=np.array([2.5, 4.7, 5.2, 7.3, 9.5, 11.5])\n",
    "Y_train=np.array([5.21, 7.70, 8.30, 11, 14.5, 15])\n",
    "yt = np.mat(Y_train)\n",
    "yte = np.mat(Y_test)\n",
    "\n",
    "m = len(X_train)\n",
    "J_train =np.array([])\n",
    "J_test =np.array([])\n",
    "la = np.array([])\n",
    "for l in range(15):\n",
    "    theta1 = fitGD(np.transpose(np.mat(X_train)),np.transpose(np.mat(Y_train)),0.01,l, 1,10000) \n",
    "    Y_pred_test = float(theta1)*X_test\n",
    "    Y_pred_train=float(theta1)*X_train\n",
    "    ypm = np.mat(Y_pred_train)\n",
    "    ypme = np.mat(Y_pred_test)\n",
    "    J_train = np.append(J_train,float(np.matmul((yt-ypm),np.transpose(yt-ypm)))/(2*m))\n",
    "    J_test = np.append(J_test,float(np.matmul((yte-ypme),np.transpose(yte-ypme)))/(2*m))\n",
    "    la = np.append(la,l)\n",
    "    \n"
   ]
  },
  {
   "cell_type": "code",
   "execution_count": 158,
   "metadata": {},
   "outputs": [
    {
     "data": {
      "image/png": "[encoded data removed]",
      "text/plain": [
       "<Figure size 432x288 with 1 Axes>"
      ]
     },
     "metadata": {
      "needs_background": "light"
     },
     "output_type": "display_data"
    }
   ],
   "source": [
    "plt.scatter(J_train,la)\n",
    "plt.scatter(J_test,la)\n",
    "plt.show()\n"
   ]
  },
  {
   "cell_type": "code",
   "execution_count": 127,
   "metadata": {},
   "outputs": [
    {
     "name": "stdout",
     "output_type": "stream",
     "text": [
      "[0 1]\n"
     ]
    }
   ],
   "source": []
  },
  {
   "cell_type": "code",
   "execution_count": null,
   "metadata": {},
   "outputs": [],
   "source": []
  },
  {
   "cell_type": "code",
   "execution_count": null,
   "metadata": {},
   "outputs": [],
   "source": []
  }
 ],
 "metadata": {
  "kernelspec": {
   "display_name": "Python 3",
   "language": "python",
   "name": "python3"
  },
  "language_info": {
   "codemirror_mode": {
    "name": "ipython",
    "version": 3
   },
   "file_extension": ".py",
   "mimetype": "text/x-python",
   "name": "python",
   "nbconvert_exporter": "python",
   "pygments_lexer": "ipython3",
   "version": "3.10.5"
  },
  "orig_nbformat": 4,
  "vscode": {
   "interpreter": {
    "hash": "81b6376eb37143a0760e9a20e5ea73a1f2630a746643fee7df862ca05e66ff00"
   }
  }
 },
 "nbformat": 4,
 "nbformat_minor": 2
}
